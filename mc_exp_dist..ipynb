{
 "cells": [
  {
   "cell_type": "markdown",
   "metadata": {},
   "source": [
    "Code retyped from David Biersach in QIS101, thank you!"
   ]
  },
  {
   "cell_type": "code",
   "execution_count": 1,
   "metadata": {},
   "outputs": [],
   "source": [
    "\"\"\" mc_exp_dist.ipynb \"\"\"\n",
    "\n",
    "# cell 1\n",
    "\n",
    "import matplotlib.pyplot as plt\n",
    "import numpy as np\n",
    "from matplotlib.markers import MarkerStyle\n",
    "from matplotlib.patches import Rectangle\n",
    "from numba import float64, vectorize # type: ignore \n",
    "\n",
    "from matplotlib.axes import Axes\n",
    "from numpy.typing import NDArray\n",
    "\n",
    "%matplotlib widget\n",
    "\n",
    "rate_param: float = 1.5 # 90 minutes \n",
    "sample_area = Rectangle((0,0), 1 , 2) \n",
    "    # 1 = event will occur in 1 hour\n",
    "    # 2 = area sample \n",
    "\n",
    "def pdf(x: NDArray[np.float_]) -> NDArray[np.float_]:\n",
    "    return rate_param * np.exp(-rate_param * x)\n",
    "\n",
    "def cdf(x: float) -> float:\n",
    "    return 1 - np.exp(-rate_param * x)\n"
   ]
  },
  {
   "cell_type": "code",
   "execution_count": 6,
   "metadata": {},
   "outputs": [],
   "source": [
    "# cell 2\n",
    "\n",
    "\n",
    "@vectorize([float64(float64, float64)], nopython=True)  # type: ignore\n",
    "def halton(n: float, p: int) -> float:\n",
    "    h = 0\n",
    "    f = 1\n",
    "    while n > 0:\n",
    "        f: float = f / p\n",
    "        h += (n % p) * f\n",
    "    return h\n",
    "\n",
    "iterations: int = 30_000  # number of iterations\n",
    "primes: list[int] = [2, 3]  # set 2 and 3 as prime numbers\n",
    "\n",
    "def plot_exp_cdf(ax: Axes) -> None:\n",
    "    x: NDArray[np.float_] = (\n",
    "        sample_area.get_x()\n",
    "        + halton(np.arange(iterations), primes[0]) * sample_area.get_width()  # type: ignore\n",
    "    )\n",
    "\n",
    "\n",
    "y: NDArray[np.float_] = (\n",
    "    sample_area.get_y()\n",
    "    + halton(np.arange(iterations), primes[1]) * sample_area.get_height()  # type: ignore\n",
    ")\n",
    "\n",
    "\n",
    "\n",
    "\n"
   ]
  },
  {
   "cell_type": "code",
   "execution_count": 7,
   "metadata": {},
   "outputs": [
    {
     "ename": "NameError",
     "evalue": "name 'x' is not defined",
     "output_type": "error",
     "traceback": [
      "\u001b[0;31m---------------------------------------------------------------------------\u001b[0m",
      "\u001b[0;31mNameError\u001b[0m                                 Traceback (most recent call last)",
      "Cell \u001b[0;32mIn[7], line 4\u001b[0m\n\u001b[1;32m      1\u001b[0m \u001b[39m# cell 3\u001b[39;00m\n\u001b[0;32m----> 4\u001b[0m d: NDArray[np\u001b[39m.\u001b[39mfloat_] \u001b[39m=\u001b[39m pdf(x) \u001b[39m-\u001b[39m y  \u001b[39m# equation\u001b[39;00m\n\u001b[1;32m      6\u001b[0m \u001b[39m# in points\u001b[39;00m\n\u001b[1;32m      7\u001b[0m x_in: NDArray[np\u001b[39m.\u001b[39mfloat_] \u001b[39m=\u001b[39m x[d \u001b[39m>\u001b[39m\u001b[39m=\u001b[39m \u001b[39m0\u001b[39m]\n",
      "\u001b[0;31mNameError\u001b[0m: name 'x' is not defined"
     ]
    }
   ],
   "source": [
    "# cell 3\n",
    "\n",
    "\n",
    "d: NDArray[np.float_] = pdf(x) - y  # equation\n",
    "\n",
    "# in points\n",
    "x_in: NDArray[np.float_] = x[d >= 0]\n",
    "y_in: NDArray[np.float_] = y[d >= 0]\n",
    "\n",
    "# out points\n",
    "x_out: NDArray[np.float_] = x[d < 0]\n",
    "y_out: NDArray[np.float_] = y[d < 0]\n",
    "\n",
    "# pixel settings\n",
    "pixel_size: float = (72 / ax.figure.dpi) ** 2  # type: ignore\n",
    "ax.scatter(x_out, y_out, color=\"purple\", marker=MarkerStyle(\".\"), s=pixel_size)\n",
    "ax.scatter(x_out, y_out, color=\"blue\", marker=MarkerStyle(\".\"), s=pixel_size)\n",
    "\n",
    "\n",
    "act_x: NDArray[np.float_] = np.linspace(0, 4, 100)\n",
    "act_y: NDArray[np.float_] = pdf(act_x)\n",
    "ax.plot(act_x, act_y, color=\"green\", linewidth=2, label=r\"$\\lambda e^ {-\\lambda x}$\")\n",
    "ax.legend()"
   ]
  },
  {
   "cell_type": "code",
   "execution_count": 8,
   "metadata": {},
   "outputs": [
    {
     "ename": "NameError",
     "evalue": "name 'd' is not defined",
     "output_type": "error",
     "traceback": [
      "\u001b[0;31m---------------------------------------------------------------------------\u001b[0m",
      "\u001b[0;31mNameError\u001b[0m                                 Traceback (most recent call last)",
      "Cell \u001b[0;32mIn[8], line 4\u001b[0m\n\u001b[1;32m      1\u001b[0m \u001b[39m# cell 4\u001b[39;00m\n\u001b[1;32m      3\u001b[0m est_area: \u001b[39mfloat\u001b[39m \u001b[39m=\u001b[39m (\n\u001b[0;32m----> 4\u001b[0m     np\u001b[39m.\u001b[39mcount_nonzero(d \u001b[39m>\u001b[39m\u001b[39m=\u001b[39m \u001b[39m0\u001b[39m)\n\u001b[1;32m      5\u001b[0m     \u001b[39m/\u001b[39m iterations\n\u001b[1;32m      6\u001b[0m     \u001b[39m*\u001b[39m (sample_area\u001b[39m.\u001b[39mget_width() \u001b[39m*\u001b[39m sample_area\u001b[39m.\u001b[39mget_height())\n\u001b[1;32m      7\u001b[0m )\n\u001b[1;32m      9\u001b[0m act_area:\u001b[39mfloat\u001b[39m \u001b[39m=\u001b[39m cdf(sample_area\u001b[39m.\u001b[39mget_x() \u001b[39m+\u001b[39m sample_area\u001b[39m.\u001b[39mget_width()) \u001b[39m-\u001b[39m cdf( sample_area\u001b[39m.\u001b[39mget_x())\n\u001b[1;32m     11\u001b[0m err: \u001b[39mfloat\u001b[39m \u001b[39m=\u001b[39m (est_area \u001b[39m-\u001b[39m act_area) \u001b[39m/\u001b[39m act_area \u001b[39m# find error\u001b[39;00m\n",
      "\u001b[0;31mNameError\u001b[0m: name 'd' is not defined"
     ]
    }
   ],
   "source": [
    "# cell 4\n",
    "\n",
    "est_area: float = (\n",
    "    np.count_nonzero(d >= 0)\n",
    "    / iterations\n",
    "    * (sample_area.get_width() * sample_area.get_height())\n",
    ")\n",
    "\n",
    "act_area:float = cdf(sample_area.get_x() + sample_area.get_width()) - cdf( sample_area.get_x())\n",
    "\n",
    "err: float = (est_area - act_area) / act_area # find error\n",
    "\n",
    "ax.set_title(rf\"Exponential Distribution CDF $(\\lambda={rate_param})$\")\n",
    "ax.set_xlim(0,4) # x limit\n",
    "ax.set_ylim(o,2.5) # y limit\n",
    "\n",
    "# subtitles\n",
    "ax.text(1.5, 0.3, \"Total dots \\nAct. Area\\nEst. Area\\n% Relative Error\", ha=\"left\")\n",
    "ax.text(\n",
    "    2.2,\n",
    "    0.3,\n",
    "    f\" = {iterations:,}\\n= {act_area: .6f}\\n= {est_area: .6f}\\n= {err:.6%}\",\n",
    "    ha=\"left\"\n",
    ")\n",
    "\n",
    "def main() -> None:\n",
    "    plt.close(\"all\") # needed\n",
    "    plt.figure(\" \", figsize=(12 , 8))\n",
    "    plot_exp_cdf(plt.axes())\n",
    "    plt.show\n",
    "\n",
    "main()"
   ]
  }
 ],
 "metadata": {
  "kernelspec": {
   "display_name": "qis101",
   "language": "python",
   "name": "python3"
  },
  "language_info": {
   "codemirror_mode": {
    "name": "ipython",
    "version": 3
   },
   "file_extension": ".py",
   "mimetype": "text/x-python",
   "name": "python",
   "nbconvert_exporter": "python",
   "pygments_lexer": "ipython3",
   "version": "3.9.17"
  },
  "orig_nbformat": 4
 },
 "nbformat": 4,
 "nbformat_minor": 2
}
