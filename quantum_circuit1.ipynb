{
 "cells": [
  {
   "cell_type": "code",
   "execution_count": 34,
   "id": "635e333e-805a-4eb0-a85a-bd5745deaabb",
   "metadata": {},
   "outputs": [
    {
     "data": {
      "image/png": "[encoded data removed]",
      "text/plain": [
       "<Figure size 872.774x367.889 with 1 Axes>"
      ]
     },
     "metadata": {},
     "output_type": "display_data"
    },
    {
     "ename": "KeyError",
     "evalue": "'sv1'",
     "output_type": "error",
     "traceback": [
      "\u001b[0;31m---------------------------------------------------------------------------\u001b[0m",
      "\u001b[0;31mKeyError\u001b[0m                                  Traceback (most recent call last)",
      "Cell \u001b[0;32mIn[34], line 51\u001b[0m\n\u001b[1;32m     48\u001b[0m result: Any \u001b[38;5;241m=\u001b[39m execute(qc, backend)\u001b[38;5;241m.\u001b[39mresult()\n\u001b[1;32m     49\u001b[0m counts: Any \u001b[38;5;241m=\u001b[39m result\u001b[38;5;241m.\u001b[39mget_counts()\n\u001b[0;32m---> 51\u001b[0m sv1: Any \u001b[38;5;241m=\u001b[39m \u001b[43mresult\u001b[49m\u001b[38;5;241;43m.\u001b[39;49m\u001b[43mdata\u001b[49m\u001b[43m(\u001b[49m\u001b[38;5;241;43m0\u001b[39;49m\u001b[43m)\u001b[49m\u001b[43m[\u001b[49m\u001b[38;5;124;43m\"\u001b[39;49m\u001b[38;5;124;43msv1\u001b[39;49m\u001b[38;5;124;43m\"\u001b[39;49m\u001b[43m]\u001b[49m\n\u001b[1;32m     52\u001b[0m sv2: Any \u001b[38;5;241m=\u001b[39m result\u001b[38;5;241m.\u001b[39mdata(\u001b[38;5;241m0\u001b[39m)[\u001b[38;5;124m\"\u001b[39m\u001b[38;5;124msv2\u001b[39m\u001b[38;5;124m\"\u001b[39m]\n\u001b[1;32m     53\u001b[0m sv3: Any \u001b[38;5;241m=\u001b[39m result\u001b[38;5;241m.\u001b[39mdata(\u001b[38;5;241m0\u001b[39m)[\u001b[38;5;124m\"\u001b[39m\u001b[38;5;124msv3\u001b[39m\u001b[38;5;124m\"\u001b[39m]\n",
      "\u001b[0;31mKeyError\u001b[0m: 'sv1'"
     ]
    }
   ],
   "source": [
    "\"\"\"quantum_circuit1.ipynb\"\"\"\n",
    "\n",
    "from __future__ import annotations\n",
    "\n",
    "import typing\n",
    "\n",
    "import numpy as np\n",
    "from qis101_utils import as_latex\n",
    "from qiskit import Aer, QuantumCircuit, execute  # type: ignore\n",
    "from qiskit.visualization import plot_bloch_multivector  # type: ignore\n",
    "from qiskit.visualization import plot_distribution  # type: ignore\n",
    "from qiskit.visualization import plot_state_qsphere  # type: ignore\n",
    "\n",
    "if typing.TYPE_CHECKING:\n",
    "    from typing import Any\n",
    "\n",
    "# Cell 1\n",
    "\n",
    "backend: Any = Aer.get_backend(\"statevector_simulator\")\n",
    "qc: Any = QuantumCircuit(3, 1)\n",
    "\n",
    "# TODO: Implement your circuit here\n",
    "\n",
    "from qiskit import QuantumRegister, ClassicalRegister, QuantumCircuit\n",
    "from numpy import pi\n",
    "\n",
    "qreg_q = QuantumRegister(3, 'q')\n",
    "creg_c = ClassicalRegister(2, 'c')\n",
    "circuit = QuantumCircuit(qreg_q, creg_c)\n",
    "\n",
    "circuit.x(qreg_q[1])\n",
    "circuit.barrier(qreg_q[0], qreg_q[1], qreg_q[2])\n",
    "circuit.h(qreg_q[0])\n",
    "circuit.barrier(qreg_q[0], qreg_q[1], qreg_q[2])\n",
    "circuit.cx(qreg_q[0], qreg_q[1])\n",
    "circuit.barrier(qreg_q[0], qreg_q[1], qreg_q[2])\n",
    "circuit.swap(qreg_q[1], qreg_q[2])\n",
    "circuit.barrier(qreg_q[0], qreg_q[1], qreg_q[2])\n",
    "circuit.measure(qreg_q[1], creg_c[0])\n",
    "\n",
    "display(circuit.draw(\"mpl\"))\n",
    "\n",
    "\n",
    "\n",
    "\n",
    "\n",
    "# Do not modify the following code\n",
    "result: Any = execute(qc, backend).result()\n",
    "counts: Any = result.get_counts()\n",
    "\n",
    "sv1: Any = result.data(0)[\"sv1\"]\n",
    "sv2: Any = result.data(0)[\"sv2\"]\n",
    "sv3: Any = result.data(0)[\"sv3\"]\n",
    "sv4: Any = result.data(0)[\"sv4\"]\n",
    "\n",
    "display(qc.draw(output=\"mpl\", scale=1.5))\n",
    "\n",
    "display(as_latex(sv1, prefix=r\"\\mathbf{Statevector\\;1}=\"))\n",
    "display(as_latex(sv2, prefix=r\"\\mathbf{Statevector\\;2}=\"))\n",
    "display(as_latex(sv3, prefix=r\"\\mathbf{Statevector\\;3}=\"))\n",
    "display(as_latex(sv4, prefix=r\"\\mathbf{Statevector\\;4}=\"))\n",
    "\n",
    "display(plot_distribution(counts))  # type: ignore\n",
    "\n",
    "\n",
    "\n",
    "\n"
   ]
  },
  {
   "cell_type": "code",
   "execution_count": null,
   "id": "5cb9159a-52f8-424c-b682-fa378f4f562d",
   "metadata": {},
   "outputs": [],
   "source": [
    "# Cell 2\n",
    "\n",
    "# 1.) Explain the results shown in Statevector 4\n",
    "    # the truth table shows in base 10 of 7, or ket |111>, there are 3 qubits. \n",
    "    # All of these qubits are in the spin down state, indicated by the value (1 is spin down, 0 is spin up)\n",
    "    # As all the values in the row are 1, there is a greater probability, that when the qubit collapses it will be in the up state. \n",
    "\n",
    "# 2.) Explain why is there a 100% chance of measuring only a value of 0 for the single classical bit?\n",
    "    # classical bits, unlike qubits, are either 1 or 0 with no options of superposition. \n",
    "    # If we classify a classical bit as 0, there is a 100% chance of it being 0, rather than a probablity as expressed by a qubit prior to the collapse.\n",
    "\n",
    "# https://azure.microsoft.com/en-us/resources/cloud-computing-dictionary/what-is-a-qubit/#superposition-interference-entanglement\n"
   ]
  },
  {
   "cell_type": "code",
   "execution_count": null,
   "id": "e60a3f71-4cf7-4734-9a70-f63d1856bef2",
   "metadata": {},
   "outputs": [],
   "source": []
  }
 ],
 "metadata": {
  "kernelspec": {
   "display_name": "Python 3 (ipykernel)",
   "language": "python",
   "name": "python3"
  },
  "language_info": {
   "codemirror_mode": {
    "name": "ipython",
    "version": 3
   },
   "file_extension": ".py",
   "mimetype": "text/x-python",
   "name": "python",
   "nbconvert_exporter": "python",
   "pygments_lexer": "ipython3",
   "version": "3.9.17"
  }
 },
 "nbformat": 4,
 "nbformat_minor": 5
}
