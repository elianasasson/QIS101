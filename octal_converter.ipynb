{
 "cells": [
  {
   "cell_type": "code",
   "execution_count": 35,
   "metadata": {},
   "outputs": [
    {
     "name": "stdout",
     "output_type": "stream",
     "text": [
      "Octal Number: 2323\n",
      "Decimal Number: 1235\n"
     ]
    }
   ],
   "source": [
    "# cell 1 - Octal to Decimal Conversion with Looping\n",
    "\n",
    "octal_number1 = \"2323\"  # input octal number\n",
    "decimal_number1 = 0  # do not modify \n",
    "\n",
    "for digit in octal_number1:\n",
    "    decimal_number1 = decimal_number1 * 8 + int(digit)\n",
    "\n",
    "decimal_number2 = decimal_number1  # need this to prevent 0 being called for next cell\n",
    "\n",
    "\n",
    "print(f\"Octal Number: {octal_number1}\")\n",
    "print(f\"Decimal Number: {decimal_number2}\")"
   ]
  },
  {
   "cell_type": "code",
   "execution_count": 36,
   "metadata": {},
   "outputs": [
    {
     "name": "stdout",
     "output_type": "stream",
     "text": [
      "Decimal Number: 1235\n",
      "Octal Number: 2323\n"
     ]
    }
   ],
   "source": [
    "# cell 2- Decimal to Octal Conversion with Looping\n",
    "\n",
    "decimal_number2 = decimal_number1  # Use the correct variable name from Cell 1\n",
    "octal_number2 = ''\n",
    "\n",
    "if decimal_number2 == 0:\n",
    "    octal_number2 = '0'  # Special case for decimal number 0\n",
    "\n",
    "while decimal_number2 > 0:\n",
    "    remainder = decimal_number2 % 8\n",
    "    octal_number2 = str(remainder) + octal_number2\n",
    "    decimal_number2 = decimal_number2 // 8\n",
    "\n",
    "print(f\"Decimal Number: {decimal_number1}\")  # Corrected to use decimal_number1\n",
    "print(f\"Octal Number: {octal_number2}\")\n"
   ]
  },
  {
   "cell_type": "code",
   "execution_count": 37,
   "metadata": {},
   "outputs": [
    {
     "name": "stdout",
     "output_type": "stream",
     "text": [
      "Octal Number: 2323\n",
      "Decimal Number: 1235\n"
     ]
    }
   ],
   "source": [
    "# cell-3 Octal to Decimal Conversion without Looping\n",
    "octal_number3 = \"2323\"\n",
    "decimal_number3 = int(octal_number3, 8)\n",
    "\n",
    "print(f\"Octal Number: {octal_number3}\")\n",
    "print(f\"Decimal Number: {decimal_number3}\")"
   ]
  },
  {
   "cell_type": "code",
   "execution_count": 38,
   "metadata": {},
   "outputs": [
    {
     "name": "stdout",
     "output_type": "stream",
     "text": [
      "Decimal Number: 1235\n",
      "Octal Number: 2323\n"
     ]
    }
   ],
   "source": [
    "# cell 4-Decimal to Octal Conversion without Looping\n",
    "\n",
    "decimal_number4 = decimal_number3\n",
    "octal_number4 = oct(decimal_number4).lstrip(\"0o\")\n",
    "\n",
    "print(f\"Decimal Number: {decimal_number4}\")\n",
    "print(f\"Octal Number: {octal_number4}\")"
   ]
  },
  {
   "cell_type": "markdown",
   "metadata": {},
   "source": [
    "Attributions:\n",
    "OpenAI, communication, July 13, 2023\n",
    "https://byjus.com/maths/octal-number-system/\n",
    "https://towardsdatascience.com/binary-hex-and-octal-in-python-20222488cee1\n",
    "\n"
   ]
  }
 ],
 "metadata": {
  "kernelspec": {
   "display_name": "qis101",
   "language": "python",
   "name": "python3"
  },
  "language_info": {
   "codemirror_mode": {
    "name": "ipython",
    "version": 3
   },
   "file_extension": ".py",
   "mimetype": "text/x-python",
   "name": "python",
   "nbconvert_exporter": "python",
   "pygments_lexer": "ipython3",
   "version": "3.9.17"
  },
  "orig_nbformat": 4
 },
 "nbformat": 4,
 "nbformat_minor": 2
}
