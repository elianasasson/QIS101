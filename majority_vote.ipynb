{
 "cells": [
  {
   "cell_type": "code",
   "execution_count": 85,
   "metadata": {},
   "outputs": [],
   "source": [
    "\"\"\"majority_vote.ipynb\"\"\"\n",
    "\n",
    "# Cell 1 - Declare Boolean states and logic gates\n",
    "\n",
    "import numpy as np\n",
    "\n",
    "# Boolean states, inputs from the logic tables\n",
    "A = np.array([0, 0, 0, 0, 1, 1, 1, 1])\n",
    "B = np.array([0, 0, 1, 1, 0, 0, 1, 1])\n",
    "C = np.array([0, 1, 0, 1, 0, 1, 0, 1])\n",
    "\n",
    "# Logic gates\n",
    "AND = np.logical_and\n",
    "OR = np.logical_or\n",
    "XOR = np.logical_xor"
   ]
  },
  {
   "cell_type": "code",
   "execution_count": 86,
   "metadata": {},
   "outputs": [],
   "source": [
    "# Cell 2 - Implement the majority vote circuit\n",
    "\n",
    "# Majority vote circuit\n",
    "# formatted like Digital App\n",
    "V = XOR(AND(A, B), XOR(AND(A, C), AND(B, C)))"
   ]
  },
  {
   "cell_type": "code",
   "execution_count": 87,
   "metadata": {},
   "outputs": [
    {
     "name": "stdout",
     "output_type": "stream",
     "text": [
      "Truth Table\n",
      "  \n",
      "A  B  C  V \n",
      "0  0  0  0\n",
      "0  0  1  0\n",
      "0  1  0  0\n",
      "0  1  1  1\n",
      "1  0  0  0\n",
      "1  0  1  1\n",
      "1  1  0  1\n",
      "1  1  1  1\n"
     ]
    }
   ],
   "source": [
    "# Cell 3 - Generate and display the truth table\n",
    "\n",
    "# Generate truth table\n",
    "truth_table = np.column_stack((A, B, C, V))\n",
    "\n",
    "# Display truth table\n",
    "print(\"Truth Table\")\n",
    "print(\"  \")\n",
    "print(\"A  B  C  V \")\n",
    "\n",
    "\n",
    "for row in truth_table:\n",
    "    print(\"  \".join(map(str, row)))"
   ]
  },
  {
   "cell_type": "markdown",
   "metadata": {},
   "source": [
    "Attributions:\n",
    "https://www.techtarget.com/whatis/definition/logic-gate-AND-OR-XOR-NOT-NAND-NOR-and-XNOR#:~:text=A%20logic%20gate%20is%20a,of%20logic%20gates%20in%20them.\n",
    "\n",
    "https://sites.millersville.edu/bikenaga/math-proof/truth-tables/truth-tables.html\n",
    "\n",
    "OpenAI, communication, July 14, 2023\n"
   ]
  },
  {
   "cell_type": "markdown",
   "metadata": {},
   "source": []
  }
 ],
 "metadata": {
  "kernelspec": {
   "display_name": "qis101",
   "language": "python",
   "name": "python3"
  },
  "language_info": {
   "codemirror_mode": {
    "name": "ipython",
    "version": 3
   },
   "file_extension": ".py",
   "mimetype": "text/x-python",
   "name": "python",
   "nbconvert_exporter": "python",
   "pygments_lexer": "ipython3",
   "version": "3.9.17"
  },
  "orig_nbformat": 4
 },
 "nbformat": 4,
 "nbformat_minor": 2
}
