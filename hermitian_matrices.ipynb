{
 "cells": [
  {
   "cell_type": "code",
   "execution_count": 8,
   "id": "a114f0a9-a0bf-4004-ba16-c135403f320e",
   "metadata": {
    "tags": []
   },
   "outputs": [
    {
     "name": "stdout",
     "output_type": "stream",
     "text": [
      "The inverse of a Hermitian matrix is also Hermitian: \n"
     ]
    },
    {
     "data": {
      "text/latex": [
       "$\\displaystyle True$"
      ],
      "text/plain": [
       "<IPython.core.display.Math object>"
      ]
     },
     "metadata": {},
     "output_type": "display_data"
    }
   ],
   "source": [
    "\"\"\"hermitian_matrices.ipynb\"\"\"\n",
    "\n",
    "# Cell 1 - The inverse of a Hermitian matrix is also Hermitian\n",
    "\n",
    "from __future__ import annotations\n",
    "import typing\n",
    "import numpy as np\n",
    "from IPython.display import Math\n",
    "\n",
    "if typing.TYPE_CHECKING:\n",
    "    from numpy.typing import NDArray\n",
    "\n",
    "\n",
    "# Define a Hermitian matrix\n",
    "A = np.array([[1+0j, 2+1j, 3-2j],\n",
    "              [2-1j, 4+0j, 5-3j],\n",
    "              [3+2j, 5+3j, 6+0j]])\n",
    "\n",
    "# Compute the inverse of A\n",
    "A_inv = np.linalg.inv(A)\n",
    "\n",
    "# Check if A_inv is Hermitian\n",
    "is_hermitian_inv = np.allclose(A_inv, A_inv.conj().T)\n",
    "\n",
    "# Display the result\n",
    "print(\"The inverse of a Hermitian matrix is also Hermitian: \")\n",
    "display(Math(str(is_hermitian_inv)))"
   ]
  },
  {
   "cell_type": "code",
   "execution_count": 9,
   "id": "ccf20f1b-fb7f-4246-b58c-dd7a01965f03",
   "metadata": {
    "tags": []
   },
   "outputs": [
    {
     "name": "stdout",
     "output_type": "stream",
     "text": [
      "A Hermitian matrix raised to an integer exponent yields another Hermitian matrix: \n"
     ]
    },
    {
     "data": {
      "text/latex": [
       "$\\displaystyle True$"
      ],
      "text/plain": [
       "<IPython.core.display.Math object>"
      ]
     },
     "metadata": {},
     "output_type": "display_data"
    }
   ],
   "source": [
    "\n",
    "# Cell 2 - A Hermitian matrix raised to an integer exponent yields another Hermitian matrix\n",
    "\n",
    "# Define a Hermitian matrix\n",
    "B = np.array([[1+0j, 2+1j],\n",
    "              [2-1j, 3+0j]])\n",
    "\n",
    "# Define an exponent\n",
    "n = 3\n",
    "\n",
    "# Compute the matrix raised to the exponent\n",
    "B_exp = np.linalg.matrix_power(B, n)\n",
    "\n",
    "# Check if B_exp is Hermitian\n",
    "is_hermitian_exp = np.allclose(B_exp, B_exp.conj().T)\n",
    "\n",
    "# Display the result\n",
    "print(\"A Hermitian matrix raised to an integer exponent yields another Hermitian matrix: \")\n",
    "display(Math(str(is_hermitian_exp)))"
   ]
  },
  {
   "cell_type": "code",
   "execution_count": null,
   "id": "8f6009e9-8fda-46e2-9fc7-bb0e4e659c9e",
   "metadata": {},
   "outputs": [],
   "source": [
    "# attributions:\n",
    "# https://en.wikipedia.org/wiki/Hermitian_matrix\n",
    "# https://mathworld.wolfram.com/HermitianMatrix.html\n",
    "# https://docs.scipy.org/doc/scipy/reference/generated/scipy.linalg.ishermitian.html\n",
    "# \n"
   ]
  }
 ],
 "metadata": {
  "kernelspec": {
   "display_name": "Python 3 (ipykernel)",
   "language": "python",
   "name": "python3"
  },
  "language_info": {
   "codemirror_mode": {
    "name": "ipython",
    "version": 3
   },
   "file_extension": ".py",
   "mimetype": "text/x-python",
   "name": "python",
   "nbconvert_exporter": "python",
   "pygments_lexer": "ipython3",
   "version": "3.10.11"
  }
 },
 "nbformat": 4,
 "nbformat_minor": 5
}
