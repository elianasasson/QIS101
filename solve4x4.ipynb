{
 "cells": [
  {
   "cell_type": "code",
   "execution_count": 9,
   "id": "c4039191-bcff-4b01-93cb-f85f6f6e8995",
   "metadata": {
    "tags": []
   },
   "outputs": [],
   "source": [
    "\"\"\"solve4x4.ipynb\"\"\"\n",
    "# Cell 1\n",
    "\n",
    "from __future__ import annotations\n",
    "\n",
    "import typing\n",
    "\n",
    "import numpy as np\n",
    "from IPython.display import Math\n",
    "from qis101_utils import as_latex\n",
    "\n",
    "if typing.TYPE_CHECKING:\n",
    "    from numpy.typing import NDArray\n",
    "\n",
    "\n",
    "from __future__ import annotations\n",
    "import typing\n",
    "import numpy as np\n",
    "from IPython.core.display import Math\n",
    "from qis101_utils import as_latex\n",
    "\n",
    "if typing.TYPE_CHECKING:\n",
    "    from numpy.typing import NDArray\n",
    "\n",
    "\"\"\"system of equations\"\"\"\n",
    "# in form x1 + x2 + x3 + x4 \n",
    "    # b is solutions \n",
    "a = np.array([[1, 2, 1, -1],\n",
    "              [3, 2, 4, 4],\n",
    "              [4, 4, 3, 4],\n",
    "              [2, 0, 1, 5]])\n",
    "\n",
    "b = np.array([5, 16, 22, 15])\n",
    "\n",
    "# solve for x\n",
    "x = np.linalg.solve(a, b) # linalg = linear algebra"
   ]
  },
  {
   "cell_type": "code",
   "execution_count": 10,
   "id": "50e2f894-67a3-46cb-ab25-a7154fc0c266",
   "metadata": {},
   "outputs": [
    {
     "data": {
      "text/latex": [
       "$\\displaystyle \\begin{align*}x_1 &= 16.0 \\\\x_2 &= -6.0 \\\\x_3 &= -2.0 \\\\x_4 &= -3.0 \\\\\\end{align*}$"
      ],
      "text/plain": [
       "<IPython.core.display.Math object>"
      ]
     },
     "metadata": {},
     "output_type": "display_data"
    }
   ],
   "source": [
    "# cell 2\n",
    "\n",
    "# Create LaTeX representation of the solution\n",
    "solution_latex = r'\\begin{align*}'\n",
    "for i in range(len(x)):\n",
    "    solution_latex += f'x_{i+1} &= {x[i]} \\\\\\\\'\n",
    "solution_latex += r'\\end{align*}'\n",
    "\n",
    "# solution\n",
    "display(Math(solution_latex))"
   ]
  },
  {
   "cell_type": "code",
   "execution_count": 11,
   "id": "de048cca-a2c9-40a1-a567-9ebb70c2b7a6",
   "metadata": {},
   "outputs": [],
   "source": [
    "# Attributions: \n",
    "# Imports at top of cell 1 from QIS101 by Dr. David Biersach\n",
    "# ChatGPT, accessed July 10th, 2023\n",
    "    # especially for cell 2"
   ]
  },
  {
   "cell_type": "code",
   "execution_count": null,
   "id": "fa07150a-4210-473e-96f5-852638807f74",
   "metadata": {},
   "outputs": [],
   "source": []
  }
 ],
 "metadata": {
  "kernelspec": {
   "display_name": "Python 3 (ipykernel)",
   "language": "python",
   "name": "python3"
  },
  "language_info": {
   "codemirror_mode": {
    "name": "ipython",
    "version": 3
   },
   "file_extension": ".py",
   "mimetype": "text/x-python",
   "name": "python",
   "nbconvert_exporter": "python",
   "pygments_lexer": "ipython3",
   "version": "3.10.11"
  }
 },
 "nbformat": 4,
 "nbformat_minor": 5
}
